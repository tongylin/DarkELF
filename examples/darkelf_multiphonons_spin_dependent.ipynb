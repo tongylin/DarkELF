{
 "cells": [
  {
   "cell_type": "markdown",
   "metadata": {},
   "source": [
    "# DarkELF multiphonon spin dependent notebook"
   ]
  },
  {
   "cell_type": "markdown",
   "metadata": {},
   "source": [
    "This notebook is meant to illustrate the part of the darkELF package for calculating dark matter-phonon rates in the multiphonon regime for a spin dependent interaction.\n",
    "\n",
    "written by Ethan & Bethany, updated 3/25/2025"
   ]
  },
  {
   "cell_type": "code",
   "execution_count": 1,
   "metadata": {},
   "outputs": [],
   "source": [
    "%matplotlib inline\n",
    "\n",
    "import sys, os\n",
    "import numpy as np\n",
    "from numpy import pi\n",
    "import matplotlib.pyplot as plt\n",
    "import matplotlib.ticker\n",
    "from matplotlib import rc, rcParams\n",
    "import matplotlib.cm as cm\n",
    "from mpl_toolkits.axes_grid1 import make_axes_locatable\n",
    "import time\n",
    "from tqdm import tqdm\n",
    "import pandas\n",
    "from scipy import interpolate\n",
    "import seaborn as sns\n",
    "\n",
    "# Make use of TeX\\ufeff\n",
    "rc('text',usetex=True)\n",
    "# Change all fonts to 'Computer Modern'\n",
    "rc('font',**{'size':14, 'family':'serif','serif':['Times New Roman']})\n",
    "rc('xtick.major', size=5, pad=7)\n",
    "rc('xtick', labelsize=15)\n",
    "rc('ytick.major', size=5, pad=7)\n",
    "rc('ytick', labelsize=15)\n",
    "\n",
    "# this needs to point to the folder where darkelf.py is stored\n",
    "work_dir = os.getcwd()\n",
    "sys.path.append(work_dir+\"/..\")\n",
    "plotdir=work_dir+\"/plots/\"\n",
    "\n",
    "# load the package\n",
    "from darkelf import darkelf, targets"
   ]
  },
  {
   "cell_type": "markdown",
   "metadata": {},
   "source": [
    "## Load the materials"
   ]
  },
  {
   "cell_type": "markdown",
   "metadata": {},
   "source": [
    "DarkELF comes with a number of pre-tabulate data files, which encode important properties of the materials which are difficult and/or slow to compute on the fly. The list of available data files can be accessed with the \"targets.files()\" command, as illustrated below."
   ]
  },
  {
   "cell_type": "code",
   "execution_count": 2,
   "metadata": {},
   "outputs": [
    {
     "name": "stdout",
     "output_type": "stream",
     "text": [
      "Available configuration files: \n",
      "\t GaAs.yaml\n",
      " \n",
      "Available data for epsilon: \n",
      "\t GaAs_mermin.dat\n",
      "\t GaAs_epsphonon_data10K.dat\n",
      " \n",
      "Available data for phonon (partial) density of states: \n",
      "\t Ga_pDoS.dat\n",
      "\t As_pDoS.dat\n",
      " \n",
      "Available data for Fn(omega) functions: \n",
      "\t As_Fn.dat\n",
      "\t Ga_Fn.dat\n",
      " \n",
      "Available data for form factors: \n",
      "\t Ga_Zion.dat\n",
      "\t Ga_atomic_Zion.dat\n",
      "\t As_Zion.dat\n",
      "\t As_atomic_Zion.dat\n"
     ]
    }
   ],
   "source": [
    "targets.files('GaAs')"
   ]
  },
  {
   "cell_type": "markdown",
   "metadata": {},
   "source": [
    "# For the example above:\n",
    "    \n",
    "*    GaAs.yaml contains global properties of the material, such as mass density, atomic numbers etc\n",
    "*    The espilon data tables parametrize the dielectric function in various regimes and with different computational methods. The dielectric function is not used in the multiphonon calculations. (See darkelf_epsilon.ipynb for details)\n",
    "*    The phonon partial density of states are needed to compute the multiphonon rate, and were take from the Materials Project. (https://materialsproject.org/) By default, darkELF loads the density of state tables that came with the package, but the user can choose to insert their own extraction by adding the file to the folder of the corresponding material. The user-supplied (p)DOS can then be loaded with the \"dos_filename\" flag. This flag accepts a single filename as well as a list of filenames. In the former case, it interprets the file as the full DOS of the material. In the latter case, each file will be interpretted as a pDOS.\n",
    "\n",
    "*    To speed up the computations, the multiphonon rate is computed with pretabulated auxiliary functions \"Fn\". The default \"Fn\" functions are calculated for the default density of states provided with darkELF. If using your own density of states, you must first run the \"create_Fn_omega()\" function on the desired density of states to recompute these pretabulated functions. (See below.) Beware that this step is somewhat time consuming. If the desired pDOS is specified with the \"dos_filename\" flag, darkELF will automatically load the corresponding Fn table.\n",
    "   "
   ]
  },
  {
   "cell_type": "markdown",
   "metadata": {},
   "source": [
    "Let's load a few materials."
   ]
  },
  {
   "cell_type": "code",
   "execution_count": 3,
   "metadata": {},
   "outputs": [
    {
     "name": "stdout",
     "output_type": "stream",
     "text": [
      " .... Loading files for GaAs\n",
      "Loaded GaAs_mermin.dat for epsilon in electron regime\n",
      "electronic ELF taken or calculated from Y. Tu, C. Kwei and C. Tung,Angular and energy dependences of the surface excitation parameter for semiconducting iii–v compounds, Surface Science601(2007) 865.\n",
      "phonon ELF taken or calculated from H.M. Lawler and E.L. Shirley, Anharmonic effects on infrared spectra of GaAs and gap:  First-principles calculations, Phys. Rev. B70(2004) 245209 and E.D. Palik, Gallium arsenide (gaas), in Handbook of Optical Constants of Solids, E.D. Palik, ed.,pp. 429–443, Elsevier (1985).\n",
      "Loaded GaAs_epsphonon_data10K.dat for epsilon in phonon regime\n",
      "Warning, GaAs_eps_electron_opticallimit.dat does not exist! dielectric function in optical limit not loaded. Needed for absorption calculations in superconductors.\n",
      "Warning! Atomic Migdal calculation not present\n",
      "Warning! Momentum dependent Zion for Migdal calculation not loaded. Using Z - number of valence electrons.\n",
      "Loaded /Users/tongyan/Dropbox/Projects/DarkELF/examples/../darkelf/../data/GaAs/Ga_pDoS.dat for partial densities of states\n",
      "Loaded /Users/tongyan/Dropbox/Projects/DarkELF/examples/../darkelf/../data/GaAs/As_pDoS.dat for partial densities of states\n",
      "Loaded /Users/tongyan/Dropbox/Projects/DarkELF/examples/../darkelf/../data/GaAs/Ga_Fn.dat for Fn(omega)\n",
      "Loaded /Users/tongyan/Dropbox/Projects/DarkELF/examples/../darkelf/../data/GaAs/As_Fn.dat for Fn(omega)\n"
     ]
    },
    {
     "name": "stderr",
     "output_type": "stream",
     "text": [
      "/Users/tongyan/Dropbox/Projects/DarkELF/examples/../darkelf/epsilon.py:44: FutureWarning: DataFrame.fillna with 'method' is deprecated and will raise in a future version. Use obj.ffill() or obj.bfill() instead.\n",
      "  data.fillna(inplace=True,method='bfill')# fill in some NaN values\n"
     ]
    },
    {
     "name": "stdout",
     "output_type": "stream",
     "text": [
      "Loaded /Users/tongyan/Dropbox/Projects/DarkELF/examples/../darkelf/../data/GaAs/GaAs_pDoS_anisotropic.dat for partial densities of states\n",
      "GaAs_pDoS_anisotropic.dat\n",
      "/Users/tongyan/Dropbox/Projects/DarkELF/examples/../darkelf/../data/GaAs/GaAs_Fn.npy\n",
      "Warning! GaAs_Fn_anisotropic.npy does not exist! Need to calculate Fn(omega) from DoS. Use the function 'F_n_d_precompute' to produce these files \n",
      "------\n",
      " .... Loading files for Al2O3\n",
      "Loaded Al2O3_mermin.dat for epsilon in electron regime\n",
      "electronic ELF taken or calculated from Y. Sun, H. Xu, B. Da, S.-f. Mao and Z.-j. Ding, Calculations of Energy-Loss Function for 26 Materials, Chinese Journal of Chemical Physics9(2016) 663.\n",
      "phonon ELF taken or calculated from  F. Gervais and B. Piriou, Anharmonicity in several-polar-mode crystals:  adjusting phonon self-energy of LO and TO modes in Al2O3 and TiO2 to fit infrared reflectivity,Journal of Physics C Solid State Physics 7 (1974) 2374 and M. Schubert, T.E. Tiwald and C.M. Herzinger, Infrared dielectric anisotropy and phonon modes of sapphire, Phys. Rev. B61(2000) 8187\n",
      "Loaded Al2O3_epsphonon_o.dat for epsilon in phonon regime\n",
      "Warning, Al2O3_eps_electron_opticallimit.dat does not exist! dielectric function in optical limit not loaded. Needed for absorption calculations in superconductors.\n",
      "Warning! Atomic Migdal calculation not present\n",
      "Warning! Momentum dependent Zion for Migdal calculation not loaded. Using Z - number of valence electrons.\n",
      "Loaded /Users/tongyan/Dropbox/Projects/DarkELF/examples/../darkelf/../data/Al2O3/Al_pDoS.dat for partial densities of states\n",
      "Loaded /Users/tongyan/Dropbox/Projects/DarkELF/examples/../darkelf/../data/Al2O3/O_pDoS.dat for partial densities of states\n",
      "Loaded /Users/tongyan/Dropbox/Projects/DarkELF/examples/../darkelf/../data/Al2O3/Al_Fn.dat for Fn(omega)\n",
      "Loaded /Users/tongyan/Dropbox/Projects/DarkELF/examples/../darkelf/../data/Al2O3/O_Fn.dat for Fn(omega)\n"
     ]
    },
    {
     "name": "stderr",
     "output_type": "stream",
     "text": [
      "/Users/tongyan/Dropbox/Projects/DarkELF/examples/../darkelf/epsilon.py:44: FutureWarning: DataFrame.fillna with 'method' is deprecated and will raise in a future version. Use obj.ffill() or obj.bfill() instead.\n",
      "  data.fillna(inplace=True,method='bfill')# fill in some NaN values\n"
     ]
    },
    {
     "name": "stdout",
     "output_type": "stream",
     "text": [
      "Loaded /Users/tongyan/Dropbox/Projects/DarkELF/examples/../darkelf/../data/Al2O3/Al2O3_pDoS_anisotropic.dat for partial densities of states\n",
      "Al2O3_pDoS_anisotropic.dat\n",
      "/Users/tongyan/Dropbox/Projects/DarkELF/examples/../darkelf/../data/Al2O3/Al2O3_Fn.npy\n",
      "Loaded Al2O3_Fn_anisotropic.npy for Fn(omega)\n",
      "------\n"
     ]
    }
   ],
   "source": [
    "gaas = darkelf(target='GaAs')\n",
    "print(\"------\")\n",
    "al2o3 = darkelf(target='Al2O3')\n",
    "print(\"------\")"
   ]
  },
  {
   "cell_type": "markdown",
   "metadata": {},
   "source": [
    "# Cross section plots"
   ]
  },
  {
   "cell_type": "markdown",
   "metadata": {},
   "source": [
    "Now using the sigma_multiphonon_SD function to calculate the required DM-nucleon cross-section for a rate of 3 events/kg/yr. We can choose from several different spin dependent operators. Currently, Of3 and Of4 are implemented, corresponding to scalar and psuedoscalar dark matter. "
   ]
  },
  {
   "cell_type": "code",
   "execution_count": 4,
   "metadata": {},
   "outputs": [
    {
     "name": "stdout",
     "output_type": "stream",
     "text": [
      "\u001b[0;31mSignature:\u001b[0m \u001b[0mgaas\u001b[0m\u001b[0;34m.\u001b[0m\u001b[0msigma_multiphonons_SD\u001b[0m\u001b[0;34m(\u001b[0m\u001b[0mthreshold\u001b[0m\u001b[0;34m,\u001b[0m \u001b[0mnucleon\u001b[0m\u001b[0;34m=\u001b[0m\u001b[0;34m'p'\u001b[0m\u001b[0;34m,\u001b[0m \u001b[0mnuclear_recoil\u001b[0m\u001b[0;34m=\u001b[0m\u001b[0;32mFalse\u001b[0m\u001b[0;34m)\u001b[0m\u001b[0;34m\u001b[0m\u001b[0;34m\u001b[0m\u001b[0m\n",
      "\u001b[0;31mDocstring:\u001b[0m\n",
      "returns DM-proton cross-section [cm^2] corresponding to 3 events/kg/yr\n",
      "Inputs\n",
      "------\n",
      "threshold: float\n",
      "  experimental threshold, in eV\n",
      "nucleon: string\n",
      "  Choose from p or n. If this matches the defined ratio of g_p and g_n, the\n",
      "  calculation will proceed. Otherwise, you will be prompted to reset the ratio\n",
      "\n",
      "nuclear_recoil: boolean\n",
      "    If true, will use the SD cross section assuming pure nuclear recoil.\n",
      "\u001b[0;31mFile:\u001b[0m      ~/Dropbox/Projects/DarkELF/darkelf/multiphonon_spin_dependent.py\n",
      "\u001b[0;31mType:\u001b[0m      method"
     ]
    }
   ],
   "source": [
    "?gaas.sigma_multiphonons_SD"
   ]
  },
  {
   "cell_type": "code",
   "execution_count": 5,
   "metadata": {},
   "outputs": [
    {
     "name": "stderr",
     "output_type": "stream",
     "text": [
      "100%|██████████| 20/20 [00:41<00:00,  2.09s/it]\n"
     ]
    },
    {
     "data": {
      "text/plain": [
       "<matplotlib.legend.Legend at 0x28f1c1d90>"
      ]
     },
     "execution_count": 5,
     "metadata": {},
     "output_type": "execute_result"
    },
    {
     "data": {
      "image/png": "[encoded data removed]",
      "text/plain": [
       "<Figure size 640x480 with 1 Axes>"
      ]
     },
     "metadata": {},
     "output_type": "display_data"
    }
   ],
   "source": [
    "import seaborn as sns\n",
    "\n",
    "points = 20\n",
    "\n",
    "mdm = np.logspace(4, 10, points)\n",
    "\n",
    "reaches1 = np.zeros(points)\n",
    "reaches2 = np.zeros(points)\n",
    "reaches3 = np.zeros(points)\n",
    "reaches4 = np.zeros(points)\n",
    "\n",
    "import time\n",
    "\n",
    "for i, mass in enumerate(tqdm(mdm)):\n",
    "    gaas.update_params(mX = mass, mediator = 'massive', SD_op = \"A'\") # update the DM mass\n",
    "    reaches1[i] = gaas.sigma_multiphonons_SD(threshold=1e-3)\n",
    "    reaches2[i] = gaas.sigma_multiphonons_SD(threshold=20e-3)\n",
    "    reaches3[i] = gaas.sigma_multiphonons_SD(threshold=1e-1)\n",
    "    reaches4[i] = gaas.sigma_multiphonons_SD(threshold=1)\n",
    "        \n",
    "colors = sns.color_palette(\"husl\", 4)\n",
    "\n",
    "fig, ax = plt.subplots()\n",
    "\n",
    "\n",
    "ax.plot(mdm/1e6, reaches1, label='$1$ meV', color=colors[0])\n",
    "ax.plot(mdm/1e6, reaches2, label='$20$ meV', color=colors[1])\n",
    "ax.plot(mdm/1e6, reaches3, label='$100$ eV', color=colors[2])\n",
    "ax.plot(mdm/1e6, reaches4, label='$1$ eV', color=colors[3])\n",
    "\n",
    "\n",
    "ax.set_xscale('log')\n",
    "ax.set_yscale('log')\n",
    "\n",
    "ax.set_xlabel(r'$m_\\chi \\ [\\mathrm{MeV}]$',fontsize=15)\n",
    "ax.set_ylabel(r'$\\sigma_n \\ [\\mathrm{cm}^2]$',fontsize=15)\n",
    "\n",
    "ax.tick_params(axis=\"both\",which=\"major\",labelsize=13,direction=\"in\",pad=5)\n",
    "\n",
    "ax.set_title(r'kg-yr GaAs, Massless Mediator')\n",
    "\n",
    "ax.set_xlim([1e-2,1e3])\n",
    "ax.set_ylim([1e-40,1e-33])\n",
    "\n",
    "xtick_major = [pow(10.,n) for n in range(-2,4,1)]\n",
    "ytick_major = [pow(10.,n) for n in range(-40,-33,2)]\n",
    "ax.set_yticks(ytick_major)\n",
    "ax.set_xticks(xtick_major)\n",
    "\n",
    "ax.legend(loc=(0.03,0.01),fontsize=9,frameon=False,ncol=2,title='Threshold Energy')\n",
    "\n",
    "#plt.savefig(plotdir+\"gaas_heavy_multiphonon_SD.pdf\",bbox_inches='tight')\n"
   ]
  },
  {
   "cell_type": "markdown",
   "metadata": {},
   "source": [
    "If starting with a new density of states, one must run the 'create_Fn_omega()' function. (see below.) This defaults to creating the Fn functions corresponding to the density of states (or list of partial density of states) loaded in in the instantiation of the class."
   ]
  },
  {
   "cell_type": "markdown",
   "metadata": {},
   "source": [
    "# Differential Rate $\\frac{dR}{d\\omega}$"
   ]
  },
  {
   "cell_type": "code",
   "execution_count": 6,
   "metadata": {},
   "outputs": [
    {
     "data": {
      "image/png": "[encoded data removed]",
      "text/plain": [
       "<Figure size 1200x460 with 2 Axes>"
      ]
     },
     "metadata": {},
     "output_type": "display_data"
    }
   ],
   "source": [
    "omegarange = np.linspace(1e-4, 200e-3, 2000)\n",
    "\n",
    "gaas.update_params(mX = 1e7, mMed = 1e9, SD_op = \"A'\") # update the DM mass\n",
    "\n",
    "dr_domega1 = [gaas._dR_domega_multiphonons_SD(omega) for omega in omegarange]\n",
    "\n",
    "gaas.update_params(mX = 1e8, mMed = 1e9, SD_op = \"A'\") # update the DM mass\n",
    "\n",
    "dr_domega2 = [gaas._dR_domega_multiphonons_SD(omega) for omega in omegarange]\n",
    "\n",
    "colors = sns.color_palette(\"husl\", 2)\n",
    "\n",
    "fig, (ax1, ax2) = plt.subplots(1, 2, figsize=(12, 4.6))\n",
    "\n",
    "ax1.plot(omegarange*1e3, dr_domega1, color=colors[0])\n",
    "ax2.plot(omegarange*1e3, dr_domega2, color=colors[1])\n",
    "\n",
    "\n",
    "ax1.set_xlabel(r'$\\omega \\ [\\mathrm{meV}]$',fontsize=15)\n",
    "ax2.set_xlabel(r'$\\omega \\ [\\mathrm{meV}]$',fontsize=15)\n",
    "ax1.set_ylabel(r'$\\frac{dR}{d\\omega} \\ [\\mathrm{Events}/\\mathrm{kg}/\\mathrm{yr}/\\mathrm{eV}]$',fontsize=15)\n",
    "\n",
    "\n",
    "ax1.set_title(r'$m_\\chi = 10$ MeV')\n",
    "ax2.set_title(r'$m_\\chi = 100$ MeV')\n",
    "\n",
    "ax1.set_xlim([0,200])\n",
    "ax2.set_xlim([0,200])\n",
    "\n",
    "ax1.set_ylim([0,5e3])\n",
    "ax2.set_ylim([0,2e2])\n",
    "\n",
    "\n",
    "xtick_major = [50*n for n in range(5)]\n",
    "ytick_major = [1e3*n for n in range(5)]\n",
    "ax1.set_yticks(ytick_major)\n",
    "\n",
    "ax1.set_xticks(xtick_major)\n",
    "ax2.set_xticks(xtick_major)\n",
    "\n",
    "ytick_major = [0.5e2*n for n in range(5)]\n",
    "ax2.set_yticks(ytick_major)\n",
    "\n",
    "plt.suptitle(r'GaAs Differential Rate, Massive Mediator, $\\sigma_n = 10^{-38} \\mathrm{cm}^2$', y=1.03)\n",
    "\n",
    "plt.savefig(plotdir+\"gaas_massive_rates_SD.pdf\",bbox_inches='tight')"
   ]
  },
  {
   "cell_type": "markdown",
   "metadata": {},
   "source": [
    "## Using a user-supplied DOS table"
   ]
  },
  {
   "cell_type": "markdown",
   "metadata": {},
   "source": [
    "The user can update the pretabulated Fn function with their own density of states, using the \"create_Fn_omega\" function. To demonstrate how this works, we include the \"Ga_pDoS_test.dat\" and \"As_pDoS_test.dat\" files, which contain older versions of the pDoS that we used. They just serve to illustrate how to include user supplied pDOS files. We then make a new darkELF object, specifying these new pDOS files:"
   ]
  },
  {
   "cell_type": "code",
   "execution_count": 7,
   "metadata": {},
   "outputs": [
    {
     "name": "stdout",
     "output_type": "stream",
     "text": [
      " .... Loading files for GaAs\n",
      "Loaded GaAs_mermin.dat for epsilon in electron regime\n",
      "electronic ELF taken or calculated from Y. Tu, C. Kwei and C. Tung,Angular and energy dependences of the surface excitation parameter for semiconducting iii–v compounds, Surface Science601(2007) 865.\n",
      "phonon ELF taken or calculated from H.M. Lawler and E.L. Shirley, Anharmonic effects on infrared spectra of GaAs and gap:  First-principles calculations, Phys. Rev. B70(2004) 245209 and E.D. Palik, Gallium arsenide (gaas), in Handbook of Optical Constants of Solids, E.D. Palik, ed.,pp. 429–443, Elsevier (1985).\n",
      "Loaded GaAs_epsphonon_data10K.dat for epsilon in phonon regime\n",
      "Warning, GaAs_eps_electron_opticallimit.dat does not exist! dielectric function in optical limit not loaded. Needed for absorption calculations in superconductors.\n",
      "Warning! Atomic Migdal calculation not present\n",
      "Warning! Momentum dependent Zion for Migdal calculation not loaded. Using Z - number of valence electrons.\n",
      "Loaded /Users/tongyan/Dropbox/Projects/DarkELF/examples/../darkelf/../data/GaAs/Ga_pDoS_test.dat for partial densities of states\n",
      "Loaded /Users/tongyan/Dropbox/Projects/DarkELF/examples/../darkelf/../data/GaAs/As_pDoS_test.dat for partial densities of states\n",
      "Warning! /Users/tongyan/Dropbox/Projects/DarkELF/examples/../darkelf/../data/GaAs/Ga_Fn_test.dat does not exist! Need to calculate Fn(omega) from DoS. Use the function 'create_Fn_omega' to produce these files \n",
      "Warning! /Users/tongyan/Dropbox/Projects/DarkELF/examples/../darkelf/../data/GaAs/As_Fn_test.dat does not exist! Need to calculate Fn(omega) from DoS. Use the function 'create_Fn_omega' to produce these files \n"
     ]
    },
    {
     "name": "stderr",
     "output_type": "stream",
     "text": [
      "/Users/tongyan/Dropbox/Projects/DarkELF/examples/../darkelf/epsilon.py:44: FutureWarning: DataFrame.fillna with 'method' is deprecated and will raise in a future version. Use obj.ffill() or obj.bfill() instead.\n",
      "  data.fillna(inplace=True,method='bfill')# fill in some NaN values\n"
     ]
    },
    {
     "name": "stdout",
     "output_type": "stream",
     "text": [
      "Loaded /Users/tongyan/Dropbox/Projects/DarkELF/examples/../darkelf/../data/GaAs/GaAs_pDoS_anisotropic.dat for partial densities of states\n",
      "GaAs_pDoS_anisotropic.dat\n",
      "/Users/tongyan/Dropbox/Projects/DarkELF/examples/../darkelf/../data/GaAs/GaAs_Fn.npy\n",
      "Warning! GaAs_Fn_anisotropic.npy does not exist! Need to calculate Fn(omega) from DoS. Use the function 'F_n_d_precompute' to produce these files \n"
     ]
    }
   ],
   "source": [
    "# just deleting any potential left-over Fn files from previous runs\n",
    "if os.path.isfile(work_dir+\"/../data/GaAs/Ga_Fn_test.dat\"):\n",
    "    os.remove(work_dir+\"/../data/GaAs/Ga_Fn_test.dat\")        \n",
    "if os.path.isfile(work_dir+\"/../data/GaAs/As_Fn_test.dat\"):\n",
    "    os.remove(work_dir+\"/../data/GaAs/As_Fn_test.dat\")\n",
    "    \n",
    "gaas_test = darkelf(target='GaAs',dos_filename=[\"Ga_pDoS_test.dat\",\"As_pDoS_test.dat\"])"
   ]
  },
  {
   "cell_type": "markdown",
   "metadata": {},
   "source": [
    "because GaAs is diatomic crystal, we specified both files a list as an argument to \"dos_filename\". Note that the definition of the object produces a warning if it doesn't find the Fn files, indicating that the user should run \"create_Fn_omega\", as below."
   ]
  },
  {
   "cell_type": "code",
   "execution_count": 8,
   "metadata": {},
   "outputs": [
    {
     "name": "stdout",
     "output_type": "stream",
     "text": [
      "result saved in /Users/tongyan/Dropbox/Projects/DarkELF/examples/../darkelf/../data/GaAs/Ga_Fn_test.dat\n",
      "result saved in /Users/tongyan/Dropbox/Projects/DarkELF/examples/../darkelf/../data/GaAs/As_Fn_test.dat\n",
      "Loaded /Users/tongyan/Dropbox/Projects/DarkELF/examples/../darkelf/../data/GaAs/Ga_Fn_test.dat for Fn(omega)\n",
      "Loaded /Users/tongyan/Dropbox/Projects/DarkELF/examples/../darkelf/../data/GaAs/As_Fn_test.dat for Fn(omega)\n"
     ]
    }
   ],
   "source": [
    "gaas_test.create_Fn_omega()"
   ]
  },
  {
   "cell_type": "markdown",
   "metadata": {},
   "source": [
    "At the end of this process, a the output will be stored in as a look-up table in a new \"Fn\" file, for future usage. The name of the Fn files is based on the name of the DoS files as follows\n",
    "\n",
    "\n",
    "Ga_pDoS_test.dat --> Ga_Fn_test.dat\n",
    "\n",
    "As_pDos_test.dat -> As_Fn_test.dat\n",
    "\n",
    " \n",
    "etc. \n",
    "\n",
    "It is important that the filenames of all user-supplied DOS or partial DOS files include the string \"DoS\" or \"pDoS\" respectively. When running the code, it suffices to specify the desired DOS file(s) with the \"dos_filename\" flag in the constructor. DarkELF will then automatically load in the corresponding Fn-tables, or calculate them if needed.  If we now reload the darkELF object, the warning should have disappeared."
   ]
  },
  {
   "cell_type": "code",
   "execution_count": 9,
   "metadata": {},
   "outputs": [
    {
     "name": "stdout",
     "output_type": "stream",
     "text": [
      " .... Loading files for GaAs\n",
      "Loaded GaAs_mermin.dat for epsilon in electron regime\n",
      "electronic ELF taken or calculated from Y. Tu, C. Kwei and C. Tung,Angular and energy dependences of the surface excitation parameter for semiconducting iii–v compounds, Surface Science601(2007) 865.\n",
      "phonon ELF taken or calculated from H.M. Lawler and E.L. Shirley, Anharmonic effects on infrared spectra of GaAs and gap:  First-principles calculations, Phys. Rev. B70(2004) 245209 and E.D. Palik, Gallium arsenide (gaas), in Handbook of Optical Constants of Solids, E.D. Palik, ed.,pp. 429–443, Elsevier (1985).\n",
      "Loaded GaAs_epsphonon_data10K.dat for epsilon in phonon regime\n",
      "Warning, GaAs_eps_electron_opticallimit.dat does not exist! dielectric function in optical limit not loaded. Needed for absorption calculations in superconductors.\n",
      "Warning! Atomic Migdal calculation not present\n",
      "Warning! Momentum dependent Zion for Migdal calculation not loaded. Using Z - number of valence electrons.\n",
      "Loaded /Users/tongyan/Dropbox/Projects/DarkELF/examples/../darkelf/../data/GaAs/Ga_pDoS_test.dat for partial densities of states\n",
      "Loaded /Users/tongyan/Dropbox/Projects/DarkELF/examples/../darkelf/../data/GaAs/As_pDoS_test.dat for partial densities of states\n",
      "Loaded /Users/tongyan/Dropbox/Projects/DarkELF/examples/../darkelf/../data/GaAs/Ga_Fn_test.dat for Fn(omega)\n",
      "Loaded /Users/tongyan/Dropbox/Projects/DarkELF/examples/../darkelf/../data/GaAs/As_Fn_test.dat for Fn(omega)\n"
     ]
    },
    {
     "name": "stderr",
     "output_type": "stream",
     "text": [
      "/Users/tongyan/Dropbox/Projects/DarkELF/examples/../darkelf/epsilon.py:44: FutureWarning: DataFrame.fillna with 'method' is deprecated and will raise in a future version. Use obj.ffill() or obj.bfill() instead.\n",
      "  data.fillna(inplace=True,method='bfill')# fill in some NaN values\n"
     ]
    },
    {
     "name": "stdout",
     "output_type": "stream",
     "text": [
      "Loaded /Users/tongyan/Dropbox/Projects/DarkELF/examples/../darkelf/../data/GaAs/GaAs_pDoS_anisotropic.dat for partial densities of states\n",
      "GaAs_pDoS_anisotropic.dat\n",
      "/Users/tongyan/Dropbox/Projects/DarkELF/examples/../darkelf/../data/GaAs/GaAs_Fn.npy\n",
      "Warning! GaAs_Fn_anisotropic.npy does not exist! Need to calculate Fn(omega) from DoS. Use the function 'F_n_d_precompute' to produce these files \n",
      " .... Loading files for GaAs\n",
      "Loaded GaAs_mermin.dat for epsilon in electron regime\n",
      "electronic ELF taken or calculated from Y. Tu, C. Kwei and C. Tung,Angular and energy dependences of the surface excitation parameter for semiconducting iii–v compounds, Surface Science601(2007) 865.\n",
      "phonon ELF taken or calculated from H.M. Lawler and E.L. Shirley, Anharmonic effects on infrared spectra of GaAs and gap:  First-principles calculations, Phys. Rev. B70(2004) 245209 and E.D. Palik, Gallium arsenide (gaas), in Handbook of Optical Constants of Solids, E.D. Palik, ed.,pp. 429–443, Elsevier (1985).\n",
      "Loaded GaAs_epsphonon_data10K.dat for epsilon in phonon regime\n",
      "Warning, GaAs_eps_electron_opticallimit.dat does not exist! dielectric function in optical limit not loaded. Needed for absorption calculations in superconductors.\n",
      "Warning! Atomic Migdal calculation not present\n",
      "Warning! Momentum dependent Zion for Migdal calculation not loaded. Using Z - number of valence electrons.\n",
      "Loaded /Users/tongyan/Dropbox/Projects/DarkELF/examples/../darkelf/../data/GaAs/Ga_pDoS.dat for partial densities of states\n",
      "Loaded /Users/tongyan/Dropbox/Projects/DarkELF/examples/../darkelf/../data/GaAs/As_pDoS.dat for partial densities of states\n",
      "Loaded /Users/tongyan/Dropbox/Projects/DarkELF/examples/../darkelf/../data/GaAs/Ga_Fn.dat for Fn(omega)\n",
      "Loaded /Users/tongyan/Dropbox/Projects/DarkELF/examples/../darkelf/../data/GaAs/As_Fn.dat for Fn(omega)\n"
     ]
    },
    {
     "name": "stderr",
     "output_type": "stream",
     "text": [
      "/Users/tongyan/Dropbox/Projects/DarkELF/examples/../darkelf/epsilon.py:44: FutureWarning: DataFrame.fillna with 'method' is deprecated and will raise in a future version. Use obj.ffill() or obj.bfill() instead.\n",
      "  data.fillna(inplace=True,method='bfill')# fill in some NaN values\n"
     ]
    },
    {
     "name": "stdout",
     "output_type": "stream",
     "text": [
      "Loaded /Users/tongyan/Dropbox/Projects/DarkELF/examples/../darkelf/../data/GaAs/GaAs_pDoS_anisotropic.dat for partial densities of states\n",
      "GaAs_pDoS_anisotropic.dat\n",
      "/Users/tongyan/Dropbox/Projects/DarkELF/examples/../darkelf/../data/GaAs/GaAs_Fn.npy\n",
      "Warning! GaAs_Fn_anisotropic.npy does not exist! Need to calculate Fn(omega) from DoS. Use the function 'F_n_d_precompute' to produce these files \n"
     ]
    }
   ],
   "source": [
    "gaas_test = darkelf(target='GaAs',dos_filename=[\"Ga_pDoS_test.dat\",\"As_pDoS_test.dat\"])\n",
    "gaas = darkelf(target='GaAs')\n"
   ]
  },
  {
   "cell_type": "markdown",
   "metadata": {},
   "source": [
    "The new darkelf object can now be used for calculations"
   ]
  },
  {
   "cell_type": "code",
   "execution_count": 10,
   "metadata": {},
   "outputs": [
    {
     "name": "stdout",
     "output_type": "stream",
     "text": [
      "1.1583937239376934e-31\n",
      "1.1611810161621008e-31\n"
     ]
    }
   ],
   "source": [
    "print(gaas_test.sigma_multiphonons_SD(0.05))\n",
    "print(gaas.sigma_multiphonons_SD(0.05))"
   ]
  },
  {
   "cell_type": "code",
   "execution_count": 14,
   "metadata": {},
   "outputs": [
    {
     "data": {
      "text/plain": [
       "[{'A': 69.0, 'frac': 0.601, 'atomic_spin': 1.5, 'f_p': 0.0750967, 'f_n': 0.0},\n",
       " {'A': 71.0, 'frac': 0.399, 'atomic_spin': 1.5, 'f_p': 0.154422, 'f_n': 0.0}]"
      ]
     },
     "execution_count": 14,
     "metadata": {},
     "output_type": "execute_result"
    }
   ],
   "source": [
    "gaas.unitcell['Ga'].get('isotopes')"
   ]
  },
  {
   "cell_type": "code",
   "execution_count": 12,
   "metadata": {},
   "outputs": [
    {
     "data": {
      "text/plain": [
       "'Ga'"
      ]
     },
     "execution_count": 12,
     "metadata": {},
     "output_type": "execute_result"
    }
   ],
   "source": [
    "gaas.atoms[0]"
   ]
  },
  {
   "cell_type": "code",
   "execution_count": 16,
   "metadata": {},
   "outputs": [
    {
     "data": {
      "text/plain": [
       "0.00041272"
      ]
     },
     "execution_count": 16,
     "metadata": {},
     "output_type": "execute_result"
    }
   ],
   "source": [
    "0.938/1e3 * 0.44"
   ]
  },
  {
   "cell_type": "code",
   "execution_count": 17,
   "metadata": {},
   "outputs": [
    {
     "data": {
      "text/plain": [
       "0.00039712"
      ]
     },
     "execution_count": 17,
     "metadata": {},
     "output_type": "execute_result"
    }
   ],
   "source": [
    "0.938/1e3 * 0.44 - 1.56e-5"
   ]
  },
  {
   "cell_type": "code",
   "execution_count": null,
   "metadata": {},
   "outputs": [
    {
     "data": {
      "text/plain": [
       "8.072840815714286e-06"
      ]
     },
     "execution_count": 20,
     "metadata": {},
     "output_type": "execute_result"
    }
   ],
   "source": [
    "0.938/1e3 * 0.135**2 * 1.2754 * (4.7 - 2.16)/ (4.7 + 2.16)"
   ]
  },
  {
   "cell_type": "code",
   "execution_count": null,
   "metadata": {},
   "outputs": [],
   "source": []
  }
 ],
 "metadata": {
  "kernelspec": {
   "display_name": "base",
   "language": "python",
   "name": "python3"
  },
  "language_info": {
   "codemirror_mode": {
    "name": "ipython",
    "version": 3
   },
   "file_extension": ".py",
   "mimetype": "text/x-python",
   "name": "python",
   "nbconvert_exporter": "python",
   "pygments_lexer": "ipython3",
   "version": "3.11.6"
  }
 },
 "nbformat": 4,
 "nbformat_minor": 4
}
